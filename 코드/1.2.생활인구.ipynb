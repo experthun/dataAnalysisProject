{
 "cells": [
  {
   "cell_type": "markdown",
   "id": "7ac0065d",
   "metadata": {
    "id": "7ac0065d"
   },
   "source": [
    "# 서울시 생활인구 전처리"
   ]
  },
  {
   "cell_type": "markdown",
   "id": "81ac1350",
   "metadata": {
    "id": "81ac1350"
   },
   "source": [
    "### 1. 데이터 불러오기"
   ]
  },
  {
   "cell_type": "code",
   "execution_count": null,
   "id": "4d8a928e",
   "metadata": {
    "id": "4d8a928e"
   },
   "outputs": [],
   "source": [
    "import pandas as pd"
   ]
  },
  {
   "cell_type": "code",
   "execution_count": null,
   "id": "d9474bec",
   "metadata": {
    "id": "d9474bec",
    "outputId": "62e60111-a495-417f-fce7-4aae3f524e09"
   },
   "outputs": [
    {
     "name": "stdout",
     "output_type": "stream",
     "text": [
      "['LOCAL_PEOPLE_DONG_202101.csv', 'LOCAL_PEOPLE_DONG_202102.csv', 'LOCAL_PEOPLE_DONG_202103.csv', 'LOCAL_PEOPLE_DONG_202104.csv', 'LOCAL_PEOPLE_DONG_202105.csv', 'LOCAL_PEOPLE_DONG_202106.csv', 'LOCAL_PEOPLE_DONG_202107.csv', 'LOCAL_PEOPLE_DONG_202108.csv', 'LOCAL_PEOPLE_DONG_202109.csv', 'LOCAL_PEOPLE_DONG_202110.csv', 'LOCAL_PEOPLE_DONG_202111.csv', 'LOCAL_PEOPLE_DONG_202112.csv']\n",
      "12\n"
     ]
    }
   ],
   "source": [
    "import os\n",
    "\n",
    "path = \"./data/생활인구\"\n",
    "file_path = os.listdir(path)\n",
    "file_list = [file for file in file_path if file.endswith(\".csv\")]\n",
    "\n",
    "#파일 목록 확인\n",
    "print(file_list)\n",
    "print(len(file_list))"
   ]
  },
  {
   "cell_type": "code",
   "execution_count": null,
   "id": "307772af",
   "metadata": {
    "id": "307772af"
   },
   "outputs": [],
   "source": [
    "#csv 파일을 데이터프레임 형태로 읽어서 가져온다.\n",
    "pop_1 = pd.read_csv('./data/생활인구/LOCAL_PEOPLE_DONG_202101.csv', encoding='utf-8', index_col = False)\n",
    "pop_2 = pd.read_csv('./data/생활인구/LOCAL_PEOPLE_DONG_202102.csv', encoding='utf-8', index_col = False)\n",
    "pop_3 = pd.read_csv('./data/생활인구/LOCAL_PEOPLE_DONG_202103.csv', encoding='utf-8', index_col = False)\n",
    "pop_4 = pd.read_csv('./data/생활인구/LOCAL_PEOPLE_DONG_202104.csv', encoding='utf-8', index_col = False)\n",
    "pop_5 = pd.read_csv('./data/생활인구/LOCAL_PEOPLE_DONG_202105.csv', encoding='utf-8', index_col = False)\n",
    "pop_6 = pd.read_csv('./data/생활인구/LOCAL_PEOPLE_DONG_202106.csv', encoding='utf-8', index_col = False)\n",
    "pop_7 = pd.read_csv('./data/생활인구/LOCAL_PEOPLE_DONG_202107.csv', encoding='utf-8', index_col = False)\n",
    "pop_8 = pd.read_csv('./data/생활인구/LOCAL_PEOPLE_DONG_202108.csv', encoding='utf-8', index_col = False)\n",
    "pop_9 = pd.read_csv('./data/생활인구/LOCAL_PEOPLE_DONG_202109.csv', encoding='utf-8', index_col = False)\n",
    "pop_10 = pd.read_csv('./data/생활인구/LOCAL_PEOPLE_DONG_202110.csv', encoding='utf-8', index_col = False)\n",
    "pop_11 = pd.read_csv('./data/생활인구/LOCAL_PEOPLE_DONG_202111.csv', encoding='utf-8', index_col = False)\n",
    "pop_12 = pd.read_csv('./data/생활인구/LOCAL_PEOPLE_DONG_202112.csv', encoding='utf-8', index_col = False)"
   ]
  },
  {
   "cell_type": "code",
   "execution_count": null,
   "id": "2f37743a",
   "metadata": {
    "id": "2f37743a",
    "outputId": "c9216b6b-d2eb-49a8-da9b-e51f4571feab"
   },
   "outputs": [
    {
     "data": {
      "text/html": [
       "<div>\n",
       "<style scoped>\n",
       "    .dataframe tbody tr th:only-of-type {\n",
       "        vertical-align: middle;\n",
       "    }\n",
       "\n",
       "    .dataframe tbody tr th {\n",
       "        vertical-align: top;\n",
       "    }\n",
       "\n",
       "    .dataframe thead th {\n",
       "        text-align: right;\n",
       "    }\n",
       "</style>\n",
       "<table border=\"1\" class=\"dataframe\">\n",
       "  <thead>\n",
       "    <tr style=\"text-align: right;\">\n",
       "      <th></th>\n",
       "      <th>기준일ID</th>\n",
       "      <th>시간대구분</th>\n",
       "      <th>행정동코드</th>\n",
       "      <th>총생활인구수</th>\n",
       "      <th>남자0세부터9세생활인구수</th>\n",
       "      <th>남자10세부터14세생활인구수</th>\n",
       "      <th>남자15세부터19세생활인구수</th>\n",
       "      <th>남자20세부터24세생활인구수</th>\n",
       "      <th>남자25세부터29세생활인구수</th>\n",
       "      <th>남자30세부터34세생활인구수</th>\n",
       "      <th>...</th>\n",
       "      <th>여자25세부터29세생활인구수</th>\n",
       "      <th>여자30세부터34세생활인구수</th>\n",
       "      <th>여자35세부터39세생활인구수</th>\n",
       "      <th>여자40세부터44세생활인구수</th>\n",
       "      <th>여자45세부터49세생활인구수</th>\n",
       "      <th>여자50세부터54세생활인구수</th>\n",
       "      <th>여자55세부터59세생활인구수</th>\n",
       "      <th>여자60세부터64세생활인구수</th>\n",
       "      <th>여자65세부터69세생활인구수</th>\n",
       "      <th>여자70세이상생활인구수</th>\n",
       "    </tr>\n",
       "  </thead>\n",
       "  <tbody>\n",
       "    <tr>\n",
       "      <th>0</th>\n",
       "      <td>20211201</td>\n",
       "      <td>0</td>\n",
       "      <td>11260630</td>\n",
       "      <td>20187.7305</td>\n",
       "      <td>772.5255</td>\n",
       "      <td>367.0029</td>\n",
       "      <td>356.4986</td>\n",
       "      <td>505.7888</td>\n",
       "      <td>794.0356</td>\n",
       "      <td>698.4104</td>\n",
       "      <td>...</td>\n",
       "      <td>844.4088</td>\n",
       "      <td>785.6802</td>\n",
       "      <td>885.2464</td>\n",
       "      <td>661.5399</td>\n",
       "      <td>774.7764</td>\n",
       "      <td>823.5129</td>\n",
       "      <td>917.4748</td>\n",
       "      <td>796.3051</td>\n",
       "      <td>706.6102</td>\n",
       "      <td>1385.8293</td>\n",
       "    </tr>\n",
       "    <tr>\n",
       "      <th>1</th>\n",
       "      <td>20211201</td>\n",
       "      <td>0</td>\n",
       "      <td>11530740</td>\n",
       "      <td>32071.2422</td>\n",
       "      <td>1239.9129</td>\n",
       "      <td>566.1704</td>\n",
       "      <td>780.9319</td>\n",
       "      <td>740.2142</td>\n",
       "      <td>1046.2378</td>\n",
       "      <td>1085.8823</td>\n",
       "      <td>...</td>\n",
       "      <td>1140.6707</td>\n",
       "      <td>1274.7953</td>\n",
       "      <td>1223.0601</td>\n",
       "      <td>1081.1128</td>\n",
       "      <td>1278.8342</td>\n",
       "      <td>1411.5230</td>\n",
       "      <td>1415.4105</td>\n",
       "      <td>1280.3025</td>\n",
       "      <td>965.0609</td>\n",
       "      <td>2518.9495</td>\n",
       "    </tr>\n",
       "    <tr>\n",
       "      <th>2</th>\n",
       "      <td>20211201</td>\n",
       "      <td>0</td>\n",
       "      <td>11380560</td>\n",
       "      <td>30217.5693</td>\n",
       "      <td>1077.6700</td>\n",
       "      <td>631.8348</td>\n",
       "      <td>894.2192</td>\n",
       "      <td>790.0118</td>\n",
       "      <td>870.7458</td>\n",
       "      <td>794.6855</td>\n",
       "      <td>...</td>\n",
       "      <td>1041.7443</td>\n",
       "      <td>1051.2382</td>\n",
       "      <td>1234.9909</td>\n",
       "      <td>1064.7638</td>\n",
       "      <td>1395.5641</td>\n",
       "      <td>1233.6247</td>\n",
       "      <td>1445.3104</td>\n",
       "      <td>1108.6644</td>\n",
       "      <td>914.6637</td>\n",
       "      <td>2590.5170</td>\n",
       "    </tr>\n",
       "    <tr>\n",
       "      <th>3</th>\n",
       "      <td>20211201</td>\n",
       "      <td>0</td>\n",
       "      <td>11200560</td>\n",
       "      <td>16120.8393</td>\n",
       "      <td>359.7251</td>\n",
       "      <td>206.7574</td>\n",
       "      <td>355.8605</td>\n",
       "      <td>642.2905</td>\n",
       "      <td>756.8398</td>\n",
       "      <td>676.7586</td>\n",
       "      <td>...</td>\n",
       "      <td>789.9147</td>\n",
       "      <td>734.2576</td>\n",
       "      <td>850.6689</td>\n",
       "      <td>708.2491</td>\n",
       "      <td>679.2909</td>\n",
       "      <td>496.4132</td>\n",
       "      <td>648.7046</td>\n",
       "      <td>516.6264</td>\n",
       "      <td>357.8356</td>\n",
       "      <td>824.8139</td>\n",
       "    </tr>\n",
       "    <tr>\n",
       "      <th>4</th>\n",
       "      <td>20211201</td>\n",
       "      <td>0</td>\n",
       "      <td>11215810</td>\n",
       "      <td>37286.6025</td>\n",
       "      <td>1781.6765</td>\n",
       "      <td>1506.1813</td>\n",
       "      <td>1740.1873</td>\n",
       "      <td>924.8098</td>\n",
       "      <td>848.2536</td>\n",
       "      <td>707.1907</td>\n",
       "      <td>...</td>\n",
       "      <td>949.2075</td>\n",
       "      <td>821.4771</td>\n",
       "      <td>1526.2988</td>\n",
       "      <td>2054.9852</td>\n",
       "      <td>2176.2063</td>\n",
       "      <td>1579.4399</td>\n",
       "      <td>1320.8634</td>\n",
       "      <td>937.4298</td>\n",
       "      <td>695.0840</td>\n",
       "      <td>1562.6486</td>\n",
       "    </tr>\n",
       "  </tbody>\n",
       "</table>\n",
       "<p>5 rows × 32 columns</p>\n",
       "</div>"
      ],
      "text/plain": [
       "      기준일ID  시간대구분     행정동코드      총생활인구수  남자0세부터9세생활인구수  남자10세부터14세생활인구수  \\\n",
       "0  20211201      0  11260630  20187.7305       772.5255         367.0029   \n",
       "1  20211201      0  11530740  32071.2422      1239.9129         566.1704   \n",
       "2  20211201      0  11380560  30217.5693      1077.6700         631.8348   \n",
       "3  20211201      0  11200560  16120.8393       359.7251         206.7574   \n",
       "4  20211201      0  11215810  37286.6025      1781.6765        1506.1813   \n",
       "\n",
       "   남자15세부터19세생활인구수  남자20세부터24세생활인구수  남자25세부터29세생활인구수  남자30세부터34세생활인구수  ...  \\\n",
       "0         356.4986         505.7888         794.0356         698.4104  ...   \n",
       "1         780.9319         740.2142        1046.2378        1085.8823  ...   \n",
       "2         894.2192         790.0118         870.7458         794.6855  ...   \n",
       "3         355.8605         642.2905         756.8398         676.7586  ...   \n",
       "4        1740.1873         924.8098         848.2536         707.1907  ...   \n",
       "\n",
       "   여자25세부터29세생활인구수  여자30세부터34세생활인구수  여자35세부터39세생활인구수  여자40세부터44세생활인구수  \\\n",
       "0         844.4088         785.6802         885.2464         661.5399   \n",
       "1        1140.6707        1274.7953        1223.0601        1081.1128   \n",
       "2        1041.7443        1051.2382        1234.9909        1064.7638   \n",
       "3         789.9147         734.2576         850.6689         708.2491   \n",
       "4         949.2075         821.4771        1526.2988        2054.9852   \n",
       "\n",
       "   여자45세부터49세생활인구수  여자50세부터54세생활인구수  여자55세부터59세생활인구수  여자60세부터64세생활인구수  \\\n",
       "0         774.7764         823.5129         917.4748         796.3051   \n",
       "1        1278.8342        1411.5230        1415.4105        1280.3025   \n",
       "2        1395.5641        1233.6247        1445.3104        1108.6644   \n",
       "3         679.2909         496.4132         648.7046         516.6264   \n",
       "4        2176.2063        1579.4399        1320.8634         937.4298   \n",
       "\n",
       "   여자65세부터69세생활인구수  여자70세이상생활인구수  \n",
       "0         706.6102     1385.8293  \n",
       "1         965.0609     2518.9495  \n",
       "2         914.6637     2590.5170  \n",
       "3         357.8356      824.8139  \n",
       "4         695.0840     1562.6486  \n",
       "\n",
       "[5 rows x 32 columns]"
      ]
     },
     "execution_count": 7,
     "metadata": {},
     "output_type": "execute_result"
    }
   ],
   "source": [
    "pop_12.head() #처음 다섯 개의 행 출력"
   ]
  },
  {
   "cell_type": "code",
   "execution_count": null,
   "id": "e4d2baea",
   "metadata": {
    "id": "e4d2baea",
    "outputId": "cc8d7d9b-39b6-4c62-f708-5c3c741129f2"
   },
   "outputs": [
    {
     "name": "stdout",
     "output_type": "stream",
     "text": [
      "<class 'pandas.core.frame.DataFrame'>\n",
      "RangeIndex: 315456 entries, 0 to 315455\n",
      "Data columns (total 32 columns):\n",
      " #   Column           Non-Null Count   Dtype  \n",
      "---  ------           --------------   -----  \n",
      " 0   기준일ID            315456 non-null  int64  \n",
      " 1   시간대구분            315456 non-null  int64  \n",
      " 2   행정동코드            315456 non-null  int64  \n",
      " 3   총생활인구수           315456 non-null  float64\n",
      " 4   남자0세부터9세생활인구수    315456 non-null  float64\n",
      " 5   남자10세부터14세생활인구수  315456 non-null  float64\n",
      " 6   남자15세부터19세생활인구수  315456 non-null  float64\n",
      " 7   남자20세부터24세생활인구수  315456 non-null  float64\n",
      " 8   남자25세부터29세생활인구수  315456 non-null  float64\n",
      " 9   남자30세부터34세생활인구수  315456 non-null  float64\n",
      " 10  남자35세부터39세생활인구수  315456 non-null  float64\n",
      " 11  남자40세부터44세생활인구수  315456 non-null  float64\n",
      " 12  남자45세부터49세생활인구수  315456 non-null  float64\n",
      " 13  남자50세부터54세생활인구수  315456 non-null  float64\n",
      " 14  남자55세부터59세생활인구수  315456 non-null  float64\n",
      " 15  남자60세부터64세생활인구수  315456 non-null  float64\n",
      " 16  남자65세부터69세생활인구수  315456 non-null  float64\n",
      " 17  남자70세이상생활인구수     315456 non-null  float64\n",
      " 18  여자0세부터9세생활인구수    315456 non-null  float64\n",
      " 19  여자10세부터14세생활인구수  315456 non-null  float64\n",
      " 20  여자15세부터19세생활인구수  315456 non-null  float64\n",
      " 21  여자20세부터24세생활인구수  315456 non-null  float64\n",
      " 22  여자25세부터29세생활인구수  315456 non-null  float64\n",
      " 23  여자30세부터34세생활인구수  315456 non-null  float64\n",
      " 24  여자35세부터39세생활인구수  315456 non-null  float64\n",
      " 25  여자40세부터44세생활인구수  315456 non-null  float64\n",
      " 26  여자45세부터49세생활인구수  315456 non-null  float64\n",
      " 27  여자50세부터54세생활인구수  315456 non-null  float64\n",
      " 28  여자55세부터59세생활인구수  315456 non-null  float64\n",
      " 29  여자60세부터64세생활인구수  315456 non-null  float64\n",
      " 30  여자65세부터69세생활인구수  315456 non-null  float64\n",
      " 31  여자70세이상생활인구수     315456 non-null  float64\n",
      "dtypes: float64(29), int64(3)\n",
      "memory usage: 77.0 MB\n"
     ]
    }
   ],
   "source": [
    "pop_12.info() #데이터 정보 확인"
   ]
  },
  {
   "cell_type": "markdown",
   "id": "a1b0ed8c",
   "metadata": {
    "id": "a1b0ed8c"
   },
   "source": [
    "### 2. 데이터 정리  \n",
    "- 필요한 열만 추출"
   ]
  },
  {
   "cell_type": "code",
   "execution_count": null,
   "id": "fcd470ba",
   "metadata": {
    "id": "fcd470ba"
   },
   "outputs": [],
   "source": [
    "pop_1 = pop_1[['기준일ID','시간대구분', '행정동코드', '총생활인구수']]\n",
    "pop_2 = pop_2[['기준일ID','시간대구분', '행정동코드', '총생활인구수']]\n",
    "pop_3 = pop_3[['기준일ID','시간대구분', '행정동코드', '총생활인구수']]\n",
    "pop_4 = pop_4[['기준일ID','시간대구분', '행정동코드', '총생활인구수']]\n",
    "pop_5 = pop_5[['기준일ID','시간대구분', '행정동코드', '총생활인구수']]\n",
    "pop_6 = pop_6[['기준일ID','시간대구분', '행정동코드', '총생활인구수']]\n",
    "pop_7 = pop_7[['기준일ID','시간대구분', '행정동코드', '총생활인구수']]\n",
    "pop_8 = pop_8[['기준일ID','시간대구분', '행정동코드', '총생활인구수']]\n",
    "pop_9 = pop_9[['기준일ID','시간대구분', '행정동코드', '총생활인구수']]\n",
    "pop_10 = pop_10[['기준일ID','시간대구분', '행정동코드', '총생활인구수']]\n",
    "pop_11 = pop_11[['기준일ID','시간대구분', '행정동코드', '총생활인구수']]\n",
    "pop_12 = pop_12[['기준일ID','시간대구분', '행정동코드', '총생활인구수']]"
   ]
  },
  {
   "cell_type": "code",
   "execution_count": null,
   "id": "7818584c",
   "metadata": {
    "id": "7818584c",
    "outputId": "4ace0e1e-3999-46a3-9a66-e05e470da8e7"
   },
   "outputs": [
    {
     "data": {
      "text/html": [
       "<div>\n",
       "<style scoped>\n",
       "    .dataframe tbody tr th:only-of-type {\n",
       "        vertical-align: middle;\n",
       "    }\n",
       "\n",
       "    .dataframe tbody tr th {\n",
       "        vertical-align: top;\n",
       "    }\n",
       "\n",
       "    .dataframe thead th {\n",
       "        text-align: right;\n",
       "    }\n",
       "</style>\n",
       "<table border=\"1\" class=\"dataframe\">\n",
       "  <thead>\n",
       "    <tr style=\"text-align: right;\">\n",
       "      <th></th>\n",
       "      <th>기준일ID</th>\n",
       "      <th>시간대구분</th>\n",
       "      <th>행정동코드</th>\n",
       "      <th>총생활인구수</th>\n",
       "    </tr>\n",
       "  </thead>\n",
       "  <tbody>\n",
       "    <tr>\n",
       "      <th>0</th>\n",
       "      <td>20210101</td>\n",
       "      <td>0</td>\n",
       "      <td>11110515</td>\n",
       "      <td>14473.8890</td>\n",
       "    </tr>\n",
       "    <tr>\n",
       "      <th>1</th>\n",
       "      <td>20210101</td>\n",
       "      <td>0</td>\n",
       "      <td>11110530</td>\n",
       "      <td>13299.5313</td>\n",
       "    </tr>\n",
       "    <tr>\n",
       "      <th>2</th>\n",
       "      <td>20210101</td>\n",
       "      <td>0</td>\n",
       "      <td>11110550</td>\n",
       "      <td>15518.3772</td>\n",
       "    </tr>\n",
       "    <tr>\n",
       "      <th>3</th>\n",
       "      <td>20210101</td>\n",
       "      <td>0</td>\n",
       "      <td>11110600</td>\n",
       "      <td>5108.9481</td>\n",
       "    </tr>\n",
       "    <tr>\n",
       "      <th>4</th>\n",
       "      <td>20210101</td>\n",
       "      <td>0</td>\n",
       "      <td>11110700</td>\n",
       "      <td>7907.7246</td>\n",
       "    </tr>\n",
       "  </tbody>\n",
       "</table>\n",
       "</div>"
      ],
      "text/plain": [
       "      기준일ID  시간대구분     행정동코드      총생활인구수\n",
       "0  20210101      0  11110515  14473.8890\n",
       "1  20210101      0  11110530  13299.5313\n",
       "2  20210101      0  11110550  15518.3772\n",
       "3  20210101      0  11110600   5108.9481\n",
       "4  20210101      0  11110700   7907.7246"
      ]
     },
     "execution_count": 10,
     "metadata": {},
     "output_type": "execute_result"
    }
   ],
   "source": [
    "pop_1.head() #처음 다섯 개의 행 출력"
   ]
  },
  {
   "cell_type": "code",
   "execution_count": null,
   "id": "d7179e06",
   "metadata": {
    "id": "d7179e06"
   },
   "outputs": [],
   "source": [
    "# 데이터 결합\n",
    "pop = pd.concat([pop_1, pop_2, pop_3, pop_4, pop_5, pop_6, pop_7, pop_8, pop_9, pop_10, pop_11, pop_12], ignore_index = True)"
   ]
  },
  {
   "cell_type": "code",
   "execution_count": null,
   "id": "8bcfa12c",
   "metadata": {
    "id": "8bcfa12c",
    "outputId": "f214d728-8265-4839-afe7-e6522bcdc7ee"
   },
   "outputs": [
    {
     "name": "stdout",
     "output_type": "stream",
     "text": [
      "<class 'pandas.core.frame.DataFrame'>\n",
      "RangeIndex: 3714240 entries, 0 to 3714239\n",
      "Data columns (total 4 columns):\n",
      " #   Column  Dtype  \n",
      "---  ------  -----  \n",
      " 0   기준일ID   int64  \n",
      " 1   시간대구분   int64  \n",
      " 2   행정동코드   int64  \n",
      " 3   총생활인구수  float64\n",
      "dtypes: float64(1), int64(3)\n",
      "memory usage: 113.3 MB\n"
     ]
    }
   ],
   "source": [
    "pop.info()"
   ]
  },
  {
   "cell_type": "code",
   "execution_count": null,
   "id": "76eef857",
   "metadata": {
    "id": "76eef857",
    "outputId": "b6df4057-6191-4f79-f09a-6a728da08ea0"
   },
   "outputs": [
    {
     "data": {
      "text/html": [
       "<div>\n",
       "<style scoped>\n",
       "    .dataframe tbody tr th:only-of-type {\n",
       "        vertical-align: middle;\n",
       "    }\n",
       "\n",
       "    .dataframe tbody tr th {\n",
       "        vertical-align: top;\n",
       "    }\n",
       "\n",
       "    .dataframe thead th {\n",
       "        text-align: right;\n",
       "    }\n",
       "</style>\n",
       "<table border=\"1\" class=\"dataframe\">\n",
       "  <thead>\n",
       "    <tr style=\"text-align: right;\">\n",
       "      <th></th>\n",
       "      <th>기준일ID</th>\n",
       "      <th>시간대구분</th>\n",
       "      <th>행정동코드</th>\n",
       "      <th>총생활인구수</th>\n",
       "    </tr>\n",
       "  </thead>\n",
       "  <tbody>\n",
       "    <tr>\n",
       "      <th>3714235</th>\n",
       "      <td>20211231</td>\n",
       "      <td>23</td>\n",
       "      <td>11470540</td>\n",
       "      <td>21687.6749</td>\n",
       "    </tr>\n",
       "    <tr>\n",
       "      <th>3714236</th>\n",
       "      <td>20211231</td>\n",
       "      <td>23</td>\n",
       "      <td>11740685</td>\n",
       "      <td>56597.5455</td>\n",
       "    </tr>\n",
       "    <tr>\n",
       "      <th>3714237</th>\n",
       "      <td>20211231</td>\n",
       "      <td>23</td>\n",
       "      <td>11500611</td>\n",
       "      <td>33165.7067</td>\n",
       "    </tr>\n",
       "    <tr>\n",
       "      <th>3714238</th>\n",
       "      <td>20211231</td>\n",
       "      <td>23</td>\n",
       "      <td>11215810</td>\n",
       "      <td>36194.0265</td>\n",
       "    </tr>\n",
       "    <tr>\n",
       "      <th>3714239</th>\n",
       "      <td>20211231</td>\n",
       "      <td>23</td>\n",
       "      <td>11560550</td>\n",
       "      <td>22589.9182</td>\n",
       "    </tr>\n",
       "  </tbody>\n",
       "</table>\n",
       "</div>"
      ],
      "text/plain": [
       "            기준일ID  시간대구분     행정동코드      총생활인구수\n",
       "3714235  20211231     23  11470540  21687.6749\n",
       "3714236  20211231     23  11740685  56597.5455\n",
       "3714237  20211231     23  11500611  33165.7067\n",
       "3714238  20211231     23  11215810  36194.0265\n",
       "3714239  20211231     23  11560550  22589.9182"
      ]
     },
     "execution_count": 13,
     "metadata": {},
     "output_type": "execute_result"
    }
   ],
   "source": [
    "pop.tail() #마지막 다섯 개의 행 출력"
   ]
  },
  {
   "cell_type": "markdown",
   "id": "403706aa",
   "metadata": {
    "id": "403706aa"
   },
   "source": [
    "- 필요없는 시간대 제거"
   ]
  },
  {
   "cell_type": "code",
   "execution_count": null,
   "id": "53500bef",
   "metadata": {
    "id": "53500bef",
    "outputId": "2141ed93-5cd1-47f1-e2e0-5d4514ca005e"
   },
   "outputs": [
    {
     "data": {
      "text/plain": [
       "Int64Index([      0,       1,       2,       3,       4,       5,       6,\n",
       "                  7,       8,       9,\n",
       "            ...\n",
       "            3705750, 3705751, 3705752, 3705753, 3705754, 3705755, 3705756,\n",
       "            3705757, 3705758, 3705759],\n",
       "           dtype='int64', length=619040)"
      ]
     },
     "execution_count": 14,
     "metadata": {},
     "output_type": "execute_result"
    }
   ],
   "source": [
    "index = pop[(pop['시간대구분'] == 0) | (pop['시간대구분'] == 1) | (pop['시간대구분'] == 2) | (pop['시간대구분'] == 3)].index\n",
    "index"
   ]
  },
  {
   "cell_type": "code",
   "execution_count": null,
   "id": "1534382b",
   "metadata": {
    "id": "1534382b"
   },
   "outputs": [],
   "source": [
    "pop = pop.drop(index)"
   ]
  },
  {
   "cell_type": "code",
   "execution_count": null,
   "id": "a4a48372",
   "metadata": {
    "id": "a4a48372",
    "outputId": "67f26b23-56ca-4a1b-ea1c-d59624b01bab"
   },
   "outputs": [
    {
     "name": "stdout",
     "output_type": "stream",
     "text": [
      "3714239\n",
      "3095200\n"
     ]
    }
   ],
   "source": [
    "indexs = list(pop.index)\n",
    "print(indexs[-1])\n",
    "print(len(pop))"
   ]
  },
  {
   "cell_type": "code",
   "execution_count": null,
   "id": "825d238a",
   "metadata": {
    "id": "825d238a",
    "outputId": "e5443e5f-acd4-47af-ce82-7fed0a05b974",
    "scrolled": true
   },
   "outputs": [
    {
     "name": "stdout",
     "output_type": "stream",
     "text": [
      "3095199\n",
      "3095200\n"
     ]
    }
   ],
   "source": [
    "#인덱스 번호 순서대로 정렬\n",
    "pop.reset_index(inplace = True, drop = True)\n",
    "indexs = list(pop.index)\n",
    "print(indexs[-1])\n",
    "print(len(pop))"
   ]
  },
  {
   "cell_type": "code",
   "execution_count": null,
   "id": "f7a8292a",
   "metadata": {
    "id": "f7a8292a",
    "outputId": "34f1c268-4cc6-44e2-995d-1ded70457ec0"
   },
   "outputs": [
    {
     "data": {
      "text/html": [
       "<div>\n",
       "<style scoped>\n",
       "    .dataframe tbody tr th:only-of-type {\n",
       "        vertical-align: middle;\n",
       "    }\n",
       "\n",
       "    .dataframe tbody tr th {\n",
       "        vertical-align: top;\n",
       "    }\n",
       "\n",
       "    .dataframe thead th {\n",
       "        text-align: right;\n",
       "    }\n",
       "</style>\n",
       "<table border=\"1\" class=\"dataframe\">\n",
       "  <thead>\n",
       "    <tr style=\"text-align: right;\">\n",
       "      <th></th>\n",
       "      <th>기준일ID</th>\n",
       "      <th>시간대구분</th>\n",
       "      <th>행정동코드</th>\n",
       "      <th>총생활인구수</th>\n",
       "    </tr>\n",
       "  </thead>\n",
       "  <tbody>\n",
       "    <tr>\n",
       "      <th>0</th>\n",
       "      <td>20210101</td>\n",
       "      <td>4</td>\n",
       "      <td>11650610</td>\n",
       "      <td>19963.0344</td>\n",
       "    </tr>\n",
       "    <tr>\n",
       "      <th>1</th>\n",
       "      <td>20210101</td>\n",
       "      <td>4</td>\n",
       "      <td>11650620</td>\n",
       "      <td>26474.4848</td>\n",
       "    </tr>\n",
       "    <tr>\n",
       "      <th>2</th>\n",
       "      <td>20210101</td>\n",
       "      <td>4</td>\n",
       "      <td>11650621</td>\n",
       "      <td>25355.3245</td>\n",
       "    </tr>\n",
       "    <tr>\n",
       "      <th>3</th>\n",
       "      <td>20210101</td>\n",
       "      <td>4</td>\n",
       "      <td>11650651</td>\n",
       "      <td>43088.2497</td>\n",
       "    </tr>\n",
       "    <tr>\n",
       "      <th>4</th>\n",
       "      <td>20210101</td>\n",
       "      <td>4</td>\n",
       "      <td>11650652</td>\n",
       "      <td>27376.8037</td>\n",
       "    </tr>\n",
       "  </tbody>\n",
       "</table>\n",
       "</div>"
      ],
      "text/plain": [
       "      기준일ID  시간대구분     행정동코드      총생활인구수\n",
       "0  20210101      4  11650610  19963.0344\n",
       "1  20210101      4  11650620  26474.4848\n",
       "2  20210101      4  11650621  25355.3245\n",
       "3  20210101      4  11650651  43088.2497\n",
       "4  20210101      4  11650652  27376.8037"
      ]
     },
     "execution_count": 18,
     "metadata": {},
     "output_type": "execute_result"
    }
   ],
   "source": [
    "pop.head()"
   ]
  },
  {
   "cell_type": "markdown",
   "id": "20cf20ad",
   "metadata": {
    "id": "20cf20ad"
   },
   "source": [
    "### 3. 결측치확인"
   ]
  },
  {
   "cell_type": "code",
   "execution_count": null,
   "id": "c887a762",
   "metadata": {
    "id": "c887a762",
    "outputId": "cadf3c38-2abc-4c89-f867-3bfafbe7ddb2"
   },
   "outputs": [
    {
     "data": {
      "text/plain": [
       "기준일ID     0\n",
       "시간대구분     0\n",
       "행정동코드     0\n",
       "총생활인구수    0\n",
       "dtype: int64"
      ]
     },
     "execution_count": 19,
     "metadata": {},
     "output_type": "execute_result"
    }
   ],
   "source": [
    "pop.isnull().sum()"
   ]
  },
  {
   "cell_type": "markdown",
   "id": "bfeae70b",
   "metadata": {
    "id": "bfeae70b"
   },
   "source": [
    "결측치 없음"
   ]
  },
  {
   "cell_type": "markdown",
   "id": "e0bb803f",
   "metadata": {
    "id": "e0bb803f"
   },
   "source": [
    "### 4. 필드계산  \n",
    "- 행정동별 시간대별 생활인구수 평균"
   ]
  },
  {
   "cell_type": "code",
   "execution_count": null,
   "id": "40ce96ca",
   "metadata": {
    "id": "40ce96ca"
   },
   "outputs": [],
   "source": [
    "pop_mean_time = pop.groupby(['행정동코드', '시간대구분'], as_index = False)['총생활인구수'].mean()"
   ]
  },
  {
   "cell_type": "code",
   "execution_count": null,
   "id": "c250dc8d",
   "metadata": {
    "id": "c250dc8d",
    "outputId": "9fe7260f-3305-4ef3-e6cc-fa4958eeb8b1"
   },
   "outputs": [
    {
     "data": {
      "text/html": [
       "<div>\n",
       "<style scoped>\n",
       "    .dataframe tbody tr th:only-of-type {\n",
       "        vertical-align: middle;\n",
       "    }\n",
       "\n",
       "    .dataframe tbody tr th {\n",
       "        vertical-align: top;\n",
       "    }\n",
       "\n",
       "    .dataframe thead th {\n",
       "        text-align: right;\n",
       "    }\n",
       "</style>\n",
       "<table border=\"1\" class=\"dataframe\">\n",
       "  <thead>\n",
       "    <tr style=\"text-align: right;\">\n",
       "      <th></th>\n",
       "      <th>행정동코드</th>\n",
       "      <th>시간대구분</th>\n",
       "      <th>총생활인구수</th>\n",
       "    </tr>\n",
       "  </thead>\n",
       "  <tbody>\n",
       "    <tr>\n",
       "      <th>291</th>\n",
       "      <td>11110690</td>\n",
       "      <td>15</td>\n",
       "      <td>3780.447766</td>\n",
       "    </tr>\n",
       "    <tr>\n",
       "      <th>290</th>\n",
       "      <td>11110690</td>\n",
       "      <td>14</td>\n",
       "      <td>3795.154119</td>\n",
       "    </tr>\n",
       "    <tr>\n",
       "      <th>292</th>\n",
       "      <td>11110690</td>\n",
       "      <td>16</td>\n",
       "      <td>3805.332811</td>\n",
       "    </tr>\n",
       "    <tr>\n",
       "      <th>289</th>\n",
       "      <td>11110690</td>\n",
       "      <td>13</td>\n",
       "      <td>3821.325290</td>\n",
       "    </tr>\n",
       "    <tr>\n",
       "      <th>58</th>\n",
       "      <td>11110540</td>\n",
       "      <td>22</td>\n",
       "      <td>3853.801375</td>\n",
       "    </tr>\n",
       "    <tr>\n",
       "      <th>...</th>\n",
       "      <td>...</td>\n",
       "      <td>...</td>\n",
       "      <td>...</td>\n",
       "    </tr>\n",
       "    <tr>\n",
       "      <th>7352</th>\n",
       "      <td>11680640</td>\n",
       "      <td>16</td>\n",
       "      <td>136156.911484</td>\n",
       "    </tr>\n",
       "    <tr>\n",
       "      <th>7348</th>\n",
       "      <td>11680640</td>\n",
       "      <td>12</td>\n",
       "      <td>139317.294185</td>\n",
       "    </tr>\n",
       "    <tr>\n",
       "      <th>7351</th>\n",
       "      <td>11680640</td>\n",
       "      <td>15</td>\n",
       "      <td>140219.193719</td>\n",
       "    </tr>\n",
       "    <tr>\n",
       "      <th>7349</th>\n",
       "      <td>11680640</td>\n",
       "      <td>13</td>\n",
       "      <td>141414.694195</td>\n",
       "    </tr>\n",
       "    <tr>\n",
       "      <th>7350</th>\n",
       "      <td>11680640</td>\n",
       "      <td>14</td>\n",
       "      <td>141953.027819</td>\n",
       "    </tr>\n",
       "  </tbody>\n",
       "</table>\n",
       "<p>8480 rows × 3 columns</p>\n",
       "</div>"
      ],
      "text/plain": [
       "         행정동코드  시간대구분         총생활인구수\n",
       "291   11110690     15    3780.447766\n",
       "290   11110690     14    3795.154119\n",
       "292   11110690     16    3805.332811\n",
       "289   11110690     13    3821.325290\n",
       "58    11110540     22    3853.801375\n",
       "...        ...    ...            ...\n",
       "7352  11680640     16  136156.911484\n",
       "7348  11680640     12  139317.294185\n",
       "7351  11680640     15  140219.193719\n",
       "7349  11680640     13  141414.694195\n",
       "7350  11680640     14  141953.027819\n",
       "\n",
       "[8480 rows x 3 columns]"
      ]
     },
     "execution_count": 21,
     "metadata": {},
     "output_type": "execute_result"
    }
   ],
   "source": [
    "#총생활인구수를 기준으로 데이터 정렬\n",
    "pop_mean_time.sort_values(by='총생활인구수')"
   ]
  },
  {
   "cell_type": "markdown",
   "id": "4a36cb51",
   "metadata": {
    "id": "4a36cb51"
   },
   "source": [
    "- 행정동별 생활인구"
   ]
  },
  {
   "cell_type": "code",
   "execution_count": null,
   "id": "8edb1357",
   "metadata": {
    "id": "8edb1357"
   },
   "outputs": [],
   "source": [
    "pop_mean = pop.groupby('행정동코드', as_index = False)['총생활인구수'].sum()\n",
    "pop_mean['총생활인구평균'] = pop_mean['총생활인구수'] / (20*365) # 스마트 쉼터 미운영 시간(00시 01시 02시 03시) 제외하고 계산"
   ]
  },
  {
   "cell_type": "code",
   "execution_count": null,
   "id": "efa2442d",
   "metadata": {
    "id": "efa2442d"
   },
   "outputs": [],
   "source": [
    "'''pm =  pop.groupby('행정동코드', as_index = False)['총생활인구수'].mean()\n",
    "pm.sort_values(by = '총생활인구수')'''"
   ]
  },
  {
   "cell_type": "code",
   "execution_count": null,
   "id": "22e15d75",
   "metadata": {
    "id": "22e15d75",
    "outputId": "dfd279ad-d96d-4cc2-c3ba-29f22c4ca773"
   },
   "outputs": [
    {
     "data": {
      "text/html": [
       "<div>\n",
       "<style scoped>\n",
       "    .dataframe tbody tr th:only-of-type {\n",
       "        vertical-align: middle;\n",
       "    }\n",
       "\n",
       "    .dataframe tbody tr th {\n",
       "        vertical-align: top;\n",
       "    }\n",
       "\n",
       "    .dataframe thead th {\n",
       "        text-align: right;\n",
       "    }\n",
       "</style>\n",
       "<table border=\"1\" class=\"dataframe\">\n",
       "  <thead>\n",
       "    <tr style=\"text-align: right;\">\n",
       "      <th></th>\n",
       "      <th>행정동코드</th>\n",
       "      <th>총생활인구수</th>\n",
       "      <th>총생활인구평균</th>\n",
       "    </tr>\n",
       "  </thead>\n",
       "  <tbody>\n",
       "    <tr>\n",
       "      <th>14</th>\n",
       "      <td>11110690</td>\n",
       "      <td>3.396575e+07</td>\n",
       "      <td>4652.842033</td>\n",
       "    </tr>\n",
       "    <tr>\n",
       "      <th>232</th>\n",
       "      <td>11470610</td>\n",
       "      <td>3.908731e+07</td>\n",
       "      <td>5354.426317</td>\n",
       "    </tr>\n",
       "    <tr>\n",
       "      <th>2</th>\n",
       "      <td>11110540</td>\n",
       "      <td>4.273785e+07</td>\n",
       "      <td>5854.499574</td>\n",
       "    </tr>\n",
       "    <tr>\n",
       "      <th>422</th>\n",
       "      <td>11740690</td>\n",
       "      <td>4.553238e+07</td>\n",
       "      <td>6237.312357</td>\n",
       "    </tr>\n",
       "    <tr>\n",
       "      <th>5</th>\n",
       "      <td>11110570</td>\n",
       "      <td>4.872514e+07</td>\n",
       "      <td>6674.677139</td>\n",
       "    </tr>\n",
       "    <tr>\n",
       "      <th>...</th>\n",
       "      <td>...</td>\n",
       "      <td>...</td>\n",
       "      <td>...</td>\n",
       "    </tr>\n",
       "    <tr>\n",
       "      <th>275</th>\n",
       "      <td>11545510</td>\n",
       "      <td>4.602962e+08</td>\n",
       "      <td>63054.278002</td>\n",
       "    </tr>\n",
       "    <tr>\n",
       "      <th>214</th>\n",
       "      <td>11440660</td>\n",
       "      <td>4.917248e+08</td>\n",
       "      <td>67359.563208</td>\n",
       "    </tr>\n",
       "    <tr>\n",
       "      <th>341</th>\n",
       "      <td>11650530</td>\n",
       "      <td>5.002168e+08</td>\n",
       "      <td>68522.853118</td>\n",
       "    </tr>\n",
       "    <tr>\n",
       "      <th>287</th>\n",
       "      <td>11560540</td>\n",
       "      <td>6.782368e+08</td>\n",
       "      <td>92909.150518</td>\n",
       "    </tr>\n",
       "    <tr>\n",
       "      <th>367</th>\n",
       "      <td>11680640</td>\n",
       "      <td>7.677231e+08</td>\n",
       "      <td>105167.554506</td>\n",
       "    </tr>\n",
       "  </tbody>\n",
       "</table>\n",
       "<p>424 rows × 3 columns</p>\n",
       "</div>"
      ],
      "text/plain": [
       "        행정동코드        총생활인구수        총생활인구평균\n",
       "14   11110690  3.396575e+07    4652.842033\n",
       "232  11470610  3.908731e+07    5354.426317\n",
       "2    11110540  4.273785e+07    5854.499574\n",
       "422  11740690  4.553238e+07    6237.312357\n",
       "5    11110570  4.872514e+07    6674.677139\n",
       "..        ...           ...            ...\n",
       "275  11545510  4.602962e+08   63054.278002\n",
       "214  11440660  4.917248e+08   67359.563208\n",
       "341  11650530  5.002168e+08   68522.853118\n",
       "287  11560540  6.782368e+08   92909.150518\n",
       "367  11680640  7.677231e+08  105167.554506\n",
       "\n",
       "[424 rows x 3 columns]"
      ]
     },
     "execution_count": 25,
     "metadata": {},
     "output_type": "execute_result"
    }
   ],
   "source": [
    "pop_mean.sort_values(by='총생활인구평균') #총생활인구평균 기준으로 데이터 정렬"
   ]
  },
  {
   "cell_type": "code",
   "execution_count": null,
   "id": "dab33cab",
   "metadata": {
    "id": "dab33cab",
    "outputId": "9ea71dfd-cd56-4afd-c357-1315f802593c"
   },
   "outputs": [
    {
     "data": {
      "text/html": [
       "<div>\n",
       "<style scoped>\n",
       "    .dataframe tbody tr th:only-of-type {\n",
       "        vertical-align: middle;\n",
       "    }\n",
       "\n",
       "    .dataframe tbody tr th {\n",
       "        vertical-align: top;\n",
       "    }\n",
       "\n",
       "    .dataframe thead th {\n",
       "        text-align: right;\n",
       "    }\n",
       "</style>\n",
       "<table border=\"1\" class=\"dataframe\">\n",
       "  <thead>\n",
       "    <tr style=\"text-align: right;\">\n",
       "      <th></th>\n",
       "      <th>행정동코드</th>\n",
       "      <th>총생활인구평균</th>\n",
       "    </tr>\n",
       "  </thead>\n",
       "  <tbody>\n",
       "    <tr>\n",
       "      <th>0</th>\n",
       "      <td>11110515</td>\n",
       "      <td>16893.502272</td>\n",
       "    </tr>\n",
       "    <tr>\n",
       "      <th>1</th>\n",
       "      <td>11110530</td>\n",
       "      <td>24906.901952</td>\n",
       "    </tr>\n",
       "    <tr>\n",
       "      <th>2</th>\n",
       "      <td>11110540</td>\n",
       "      <td>5854.499574</td>\n",
       "    </tr>\n",
       "    <tr>\n",
       "      <th>3</th>\n",
       "      <td>11110550</td>\n",
       "      <td>14709.096934</td>\n",
       "    </tr>\n",
       "    <tr>\n",
       "      <th>4</th>\n",
       "      <td>11110560</td>\n",
       "      <td>18876.879438</td>\n",
       "    </tr>\n",
       "    <tr>\n",
       "      <th>...</th>\n",
       "      <td>...</td>\n",
       "      <td>...</td>\n",
       "    </tr>\n",
       "    <tr>\n",
       "      <th>419</th>\n",
       "      <td>11740650</td>\n",
       "      <td>25590.867720</td>\n",
       "    </tr>\n",
       "    <tr>\n",
       "      <th>420</th>\n",
       "      <td>11740660</td>\n",
       "      <td>26728.614136</td>\n",
       "    </tr>\n",
       "    <tr>\n",
       "      <th>421</th>\n",
       "      <td>11740685</td>\n",
       "      <td>51557.923449</td>\n",
       "    </tr>\n",
       "    <tr>\n",
       "      <th>422</th>\n",
       "      <td>11740690</td>\n",
       "      <td>6237.312357</td>\n",
       "    </tr>\n",
       "    <tr>\n",
       "      <th>423</th>\n",
       "      <td>11740700</td>\n",
       "      <td>26473.840781</td>\n",
       "    </tr>\n",
       "  </tbody>\n",
       "</table>\n",
       "<p>424 rows × 2 columns</p>\n",
       "</div>"
      ],
      "text/plain": [
       "        행정동코드       총생활인구평균\n",
       "0    11110515  16893.502272\n",
       "1    11110530  24906.901952\n",
       "2    11110540   5854.499574\n",
       "3    11110550  14709.096934\n",
       "4    11110560  18876.879438\n",
       "..        ...           ...\n",
       "419  11740650  25590.867720\n",
       "420  11740660  26728.614136\n",
       "421  11740685  51557.923449\n",
       "422  11740690   6237.312357\n",
       "423  11740700  26473.840781\n",
       "\n",
       "[424 rows x 2 columns]"
      ]
     },
     "execution_count": 26,
     "metadata": {},
     "output_type": "execute_result"
    }
   ],
   "source": [
    "pop_mean = pop_mean.drop('총생활인구수', axis = 1) #총생활인구수 제외하고 데이터 출력\n",
    "pop_mean"
   ]
  },
  {
   "cell_type": "markdown",
   "id": "71ab6ad3",
   "metadata": {
    "id": "71ab6ad3"
   },
   "source": [
    "### 4-1. 행정동 추가"
   ]
  },
  {
   "cell_type": "markdown",
   "id": "061aa650",
   "metadata": {
    "id": "061aa650"
   },
   "source": [
    "기존 오류2동 면적: 1.4(항동) + 3.2(오류2동) = 4.6\n",
    "\n",
    "항동: 기존 면적의 약 30% (0.30434783)  \n",
    "오류2동: 기존 면적의 약 70% (0.69565217)  \n",
    "\n",
    "오류2동 데이터(50982.03)을 항동, 오류2동으로 나눠서 처리  \n",
    "항동: 데이터값 * 0.3  \n",
    "오류2동: 데이터값 * 0.7"
   ]
  },
  {
   "cell_type": "code",
   "execution_count": null,
   "id": "7cfd9d68",
   "metadata": {
    "id": "7cfd9d68",
    "outputId": "5edaaa3a-00c5-4fac-8366-26936b7ca6bc"
   },
   "outputs": [
    {
     "data": {
      "text/html": [
       "<div>\n",
       "<style scoped>\n",
       "    .dataframe tbody tr th:only-of-type {\n",
       "        vertical-align: middle;\n",
       "    }\n",
       "\n",
       "    .dataframe tbody tr th {\n",
       "        vertical-align: top;\n",
       "    }\n",
       "\n",
       "    .dataframe thead th {\n",
       "        text-align: right;\n",
       "    }\n",
       "</style>\n",
       "<table border=\"1\" class=\"dataframe\">\n",
       "  <thead>\n",
       "    <tr style=\"text-align: right;\">\n",
       "      <th></th>\n",
       "      <th>행정동코드</th>\n",
       "      <th>총생활인구평균</th>\n",
       "    </tr>\n",
       "  </thead>\n",
       "  <tbody>\n",
       "    <tr>\n",
       "      <th>273</th>\n",
       "      <td>11530780</td>\n",
       "      <td>50982.030485</td>\n",
       "    </tr>\n",
       "  </tbody>\n",
       "</table>\n",
       "</div>"
      ],
      "text/plain": [
       "        행정동코드       총생활인구평균\n",
       "273  11530780  50982.030485"
      ]
     },
     "execution_count": 33,
     "metadata": {},
     "output_type": "execute_result"
    }
   ],
   "source": [
    "pop_mean[pop_mean['행정동코드'] == 11530780] #행정동코드가 11530780인 행 출력"
   ]
  },
  {
   "cell_type": "code",
   "execution_count": null,
   "id": "1be24e0e",
   "metadata": {
    "id": "1be24e0e",
    "outputId": "1cb3b7a2-d6f1-4a17-8750-b78765ab587f"
   },
   "outputs": [
    {
     "data": {
      "text/plain": [
       "Int64Index([273], dtype='int64')"
      ]
     },
     "execution_count": 30,
     "metadata": {},
     "output_type": "execute_result"
    }
   ],
   "source": [
    "index = pop_mean[pop_mean['행정동코드'] == 11530780].index\n",
    "index"
   ]
  },
  {
   "cell_type": "code",
   "execution_count": null,
   "id": "fa059376",
   "metadata": {
    "id": "fa059376",
    "outputId": "d6a1c931-6b98-46a8-838d-9f1e05407f6f"
   },
   "outputs": [
    {
     "name": "stdout",
     "output_type": "stream",
     "text": [
      "50982.030485424664 50982.030485424664 35687.42133979726 15294.609145627399\n"
     ]
    }
   ],
   "source": [
    "ori = pop_mean.loc[273,'총생활인구평균']\n",
    "or2 = ori*0.7\n",
    "hd = ori*0.3\n",
    "\n",
    "print(ori, or2+hd, or2, hd)"
   ]
  },
  {
   "cell_type": "code",
   "execution_count": null,
   "id": "de66ccd6",
   "metadata": {
    "id": "de66ccd6",
    "outputId": "d7fe881a-b07e-4b56-ad2b-27804353d47b"
   },
   "outputs": [
    {
     "data": {
      "text/html": [
       "<div>\n",
       "<style scoped>\n",
       "    .dataframe tbody tr th:only-of-type {\n",
       "        vertical-align: middle;\n",
       "    }\n",
       "\n",
       "    .dataframe tbody tr th {\n",
       "        vertical-align: top;\n",
       "    }\n",
       "\n",
       "    .dataframe thead th {\n",
       "        text-align: right;\n",
       "    }\n",
       "</style>\n",
       "<table border=\"1\" class=\"dataframe\">\n",
       "  <thead>\n",
       "    <tr style=\"text-align: right;\">\n",
       "      <th></th>\n",
       "      <th>행정동코드</th>\n",
       "      <th>총생활인구평균</th>\n",
       "    </tr>\n",
       "  </thead>\n",
       "  <tbody>\n",
       "    <tr>\n",
       "      <th>273</th>\n",
       "      <td>11530780</td>\n",
       "      <td>35687.42134</td>\n",
       "    </tr>\n",
       "  </tbody>\n",
       "</table>\n",
       "</div>"
      ],
      "text/plain": [
       "        행정동코드      총생활인구평균\n",
       "273  11530780  35687.42134"
      ]
     },
     "execution_count": 35,
     "metadata": {},
     "output_type": "execute_result"
    }
   ],
   "source": [
    "pop_mean.loc[273,'총생활인구평균'] = or2\n",
    "pop_mean[pop_mean['행정동코드'] == 11530780]"
   ]
  },
  {
   "cell_type": "code",
   "execution_count": null,
   "id": "59f11908",
   "metadata": {
    "id": "59f11908",
    "outputId": "b4512472-ead6-4bf6-8029-51cf22e196cd"
   },
   "outputs": [
    {
     "data": {
      "text/html": [
       "<div>\n",
       "<style scoped>\n",
       "    .dataframe tbody tr th:only-of-type {\n",
       "        vertical-align: middle;\n",
       "    }\n",
       "\n",
       "    .dataframe tbody tr th {\n",
       "        vertical-align: top;\n",
       "    }\n",
       "\n",
       "    .dataframe thead th {\n",
       "        text-align: right;\n",
       "    }\n",
       "</style>\n",
       "<table border=\"1\" class=\"dataframe\">\n",
       "  <thead>\n",
       "    <tr style=\"text-align: right;\">\n",
       "      <th></th>\n",
       "      <th>행정동코드</th>\n",
       "      <th>총생활인구평균</th>\n",
       "    </tr>\n",
       "  </thead>\n",
       "  <tbody>\n",
       "    <tr>\n",
       "      <th>422</th>\n",
       "      <td>11740690</td>\n",
       "      <td>6237.312357</td>\n",
       "    </tr>\n",
       "    <tr>\n",
       "      <th>423</th>\n",
       "      <td>11740700</td>\n",
       "      <td>26473.840781</td>\n",
       "    </tr>\n",
       "  </tbody>\n",
       "</table>\n",
       "</div>"
      ],
      "text/plain": [
       "        행정동코드       총생활인구평균\n",
       "422  11740690   6237.312357\n",
       "423  11740700  26473.840781"
      ]
     },
     "execution_count": 37,
     "metadata": {},
     "output_type": "execute_result"
    }
   ],
   "source": [
    "pop_mean.tail(2)"
   ]
  },
  {
   "cell_type": "code",
   "execution_count": null,
   "id": "87fe50b2",
   "metadata": {
    "id": "87fe50b2",
    "outputId": "cb7ff18e-bb6b-4eeb-e1e6-0afffa669f56"
   },
   "outputs": [
    {
     "data": {
      "text/html": [
       "<div>\n",
       "<style scoped>\n",
       "    .dataframe tbody tr th:only-of-type {\n",
       "        vertical-align: middle;\n",
       "    }\n",
       "\n",
       "    .dataframe tbody tr th {\n",
       "        vertical-align: top;\n",
       "    }\n",
       "\n",
       "    .dataframe thead th {\n",
       "        text-align: right;\n",
       "    }\n",
       "</style>\n",
       "<table border=\"1\" class=\"dataframe\">\n",
       "  <thead>\n",
       "    <tr style=\"text-align: right;\">\n",
       "      <th></th>\n",
       "      <th>행정동코드</th>\n",
       "      <th>총생활인구평균</th>\n",
       "    </tr>\n",
       "  </thead>\n",
       "  <tbody>\n",
       "    <tr>\n",
       "      <th>423</th>\n",
       "      <td>11740700.0</td>\n",
       "      <td>26473.840781</td>\n",
       "    </tr>\n",
       "    <tr>\n",
       "      <th>424</th>\n",
       "      <td>11530800.0</td>\n",
       "      <td>15294.609146</td>\n",
       "    </tr>\n",
       "  </tbody>\n",
       "</table>\n",
       "</div>"
      ],
      "text/plain": [
       "          행정동코드       총생활인구평균\n",
       "423  11740700.0  26473.840781\n",
       "424  11530800.0  15294.609146"
      ]
     },
     "execution_count": 42,
     "metadata": {},
     "output_type": "execute_result"
    }
   ],
   "source": [
    "pop_mean.loc[424] = [11530800, hd]  # 424 인덱스에 있는 데이터 정보 출력\n",
    "pop_mean.tail(2)"
   ]
  },
  {
   "cell_type": "code",
   "execution_count": null,
   "id": "0ff8f1f1",
   "metadata": {
    "id": "0ff8f1f1",
    "outputId": "3714c70f-208b-4f4e-f437-e4b2a493b990"
   },
   "outputs": [
    {
     "name": "stdout",
     "output_type": "stream",
     "text": [
      "<class 'pandas.core.frame.DataFrame'>\n",
      "Int64Index: 425 entries, 0 to 424\n",
      "Data columns (total 2 columns):\n",
      " #   Column   Non-Null Count  Dtype  \n",
      "---  ------   --------------  -----  \n",
      " 0   행정동코드    425 non-null    float64\n",
      " 1   총생활인구평균  425 non-null    float64\n",
      "dtypes: float64(2)\n",
      "memory usage: 26.1 KB\n"
     ]
    }
   ],
   "source": [
    "pop_mean.info()"
   ]
  },
  {
   "cell_type": "code",
   "execution_count": null,
   "id": "95675232",
   "metadata": {
    "id": "95675232",
    "outputId": "cb3b7086-3c2e-4f1d-9329-1c53f0fa6b28"
   },
   "outputs": [
    {
     "name": "stdout",
     "output_type": "stream",
     "text": [
      "<class 'pandas.core.frame.DataFrame'>\n",
      "Int64Index: 425 entries, 0 to 424\n",
      "Data columns (total 2 columns):\n",
      " #   Column   Non-Null Count  Dtype  \n",
      "---  ------   --------------  -----  \n",
      " 0   행정동코드    425 non-null    int32  \n",
      " 1   총생활인구평균  425 non-null    float64\n",
      "dtypes: float64(1), int32(1)\n",
      "memory usage: 24.5 KB\n"
     ]
    }
   ],
   "source": [
    "pop_mean['행정동코드'] = pop_mean['행정동코드'].astype(int) # 실수형 데이터를 정수형 데이터로 변환\n",
    "pop_mean.info()"
   ]
  },
  {
   "cell_type": "code",
   "execution_count": null,
   "id": "be9beea6",
   "metadata": {
    "id": "be9beea6",
    "outputId": "b0b1d955-19b4-480f-966f-ca8d006769a5"
   },
   "outputs": [
    {
     "data": {
      "text/html": [
       "<div>\n",
       "<style scoped>\n",
       "    .dataframe tbody tr th:only-of-type {\n",
       "        vertical-align: middle;\n",
       "    }\n",
       "\n",
       "    .dataframe tbody tr th {\n",
       "        vertical-align: top;\n",
       "    }\n",
       "\n",
       "    .dataframe thead th {\n",
       "        text-align: right;\n",
       "    }\n",
       "</style>\n",
       "<table border=\"1\" class=\"dataframe\">\n",
       "  <thead>\n",
       "    <tr style=\"text-align: right;\">\n",
       "      <th></th>\n",
       "      <th>행정동코드</th>\n",
       "      <th>총생활인구평균</th>\n",
       "    </tr>\n",
       "  </thead>\n",
       "  <tbody>\n",
       "    <tr>\n",
       "      <th>0</th>\n",
       "      <td>11110515</td>\n",
       "      <td>16893.502272</td>\n",
       "    </tr>\n",
       "    <tr>\n",
       "      <th>1</th>\n",
       "      <td>11110530</td>\n",
       "      <td>24906.901952</td>\n",
       "    </tr>\n",
       "    <tr>\n",
       "      <th>2</th>\n",
       "      <td>11110540</td>\n",
       "      <td>5854.499574</td>\n",
       "    </tr>\n",
       "    <tr>\n",
       "      <th>3</th>\n",
       "      <td>11110550</td>\n",
       "      <td>14709.096934</td>\n",
       "    </tr>\n",
       "    <tr>\n",
       "      <th>4</th>\n",
       "      <td>11110560</td>\n",
       "      <td>18876.879438</td>\n",
       "    </tr>\n",
       "    <tr>\n",
       "      <th>...</th>\n",
       "      <td>...</td>\n",
       "      <td>...</td>\n",
       "    </tr>\n",
       "    <tr>\n",
       "      <th>420</th>\n",
       "      <td>11740660</td>\n",
       "      <td>26728.614136</td>\n",
       "    </tr>\n",
       "    <tr>\n",
       "      <th>421</th>\n",
       "      <td>11740685</td>\n",
       "      <td>51557.923449</td>\n",
       "    </tr>\n",
       "    <tr>\n",
       "      <th>422</th>\n",
       "      <td>11740690</td>\n",
       "      <td>6237.312357</td>\n",
       "    </tr>\n",
       "    <tr>\n",
       "      <th>423</th>\n",
       "      <td>11740700</td>\n",
       "      <td>26473.840781</td>\n",
       "    </tr>\n",
       "    <tr>\n",
       "      <th>424</th>\n",
       "      <td>11530800</td>\n",
       "      <td>15294.609146</td>\n",
       "    </tr>\n",
       "  </tbody>\n",
       "</table>\n",
       "<p>425 rows × 2 columns</p>\n",
       "</div>"
      ],
      "text/plain": [
       "        행정동코드       총생활인구평균\n",
       "0    11110515  16893.502272\n",
       "1    11110530  24906.901952\n",
       "2    11110540   5854.499574\n",
       "3    11110550  14709.096934\n",
       "4    11110560  18876.879438\n",
       "..        ...           ...\n",
       "420  11740660  26728.614136\n",
       "421  11740685  51557.923449\n",
       "422  11740690   6237.312357\n",
       "423  11740700  26473.840781\n",
       "424  11530800  15294.609146\n",
       "\n",
       "[425 rows x 2 columns]"
      ]
     },
     "execution_count": 48,
     "metadata": {},
     "output_type": "execute_result"
    }
   ],
   "source": [
    "pop_mean"
   ]
  },
  {
   "cell_type": "markdown",
   "id": "31c038e6",
   "metadata": {
    "id": "31c038e6"
   },
   "source": [
    "### 5. 지역코드 결합"
   ]
  },
  {
   "cell_type": "code",
   "execution_count": null,
   "id": "a4ab6a84",
   "metadata": {
    "id": "a4ab6a84",
    "outputId": "d4284e03-f4d3-48eb-cf83-56f961670a39"
   },
   "outputs": [
    {
     "data": {
      "text/html": [
       "<div>\n",
       "<style scoped>\n",
       "    .dataframe tbody tr th:only-of-type {\n",
       "        vertical-align: middle;\n",
       "    }\n",
       "\n",
       "    .dataframe tbody tr th {\n",
       "        vertical-align: top;\n",
       "    }\n",
       "\n",
       "    .dataframe thead th {\n",
       "        text-align: right;\n",
       "    }\n",
       "</style>\n",
       "<table border=\"1\" class=\"dataframe\">\n",
       "  <thead>\n",
       "    <tr style=\"text-align: right;\">\n",
       "      <th></th>\n",
       "      <th>통계청행정동코드</th>\n",
       "      <th>행자부행정동코드</th>\n",
       "      <th>시도명</th>\n",
       "      <th>시군구명</th>\n",
       "      <th>행정동명</th>\n",
       "    </tr>\n",
       "  </thead>\n",
       "  <tbody>\n",
       "    <tr>\n",
       "      <th>0</th>\n",
       "      <td>1101053</td>\n",
       "      <td>11110530</td>\n",
       "      <td>서울</td>\n",
       "      <td>종로구</td>\n",
       "      <td>사직동</td>\n",
       "    </tr>\n",
       "    <tr>\n",
       "      <th>1</th>\n",
       "      <td>1101054</td>\n",
       "      <td>11110540</td>\n",
       "      <td>서울</td>\n",
       "      <td>종로구</td>\n",
       "      <td>삼청동</td>\n",
       "    </tr>\n",
       "    <tr>\n",
       "      <th>2</th>\n",
       "      <td>1101055</td>\n",
       "      <td>11110550</td>\n",
       "      <td>서울</td>\n",
       "      <td>종로구</td>\n",
       "      <td>부암동</td>\n",
       "    </tr>\n",
       "    <tr>\n",
       "      <th>3</th>\n",
       "      <td>1101056</td>\n",
       "      <td>11110560</td>\n",
       "      <td>서울</td>\n",
       "      <td>종로구</td>\n",
       "      <td>평창동</td>\n",
       "    </tr>\n",
       "    <tr>\n",
       "      <th>4</th>\n",
       "      <td>1101057</td>\n",
       "      <td>11110570</td>\n",
       "      <td>서울</td>\n",
       "      <td>종로구</td>\n",
       "      <td>무악동</td>\n",
       "    </tr>\n",
       "    <tr>\n",
       "      <th>...</th>\n",
       "      <td>...</td>\n",
       "      <td>...</td>\n",
       "      <td>...</td>\n",
       "      <td>...</td>\n",
       "      <td>...</td>\n",
       "    </tr>\n",
       "    <tr>\n",
       "      <th>420</th>\n",
       "      <td>1125070</td>\n",
       "      <td>11740690</td>\n",
       "      <td>서울</td>\n",
       "      <td>강동구</td>\n",
       "      <td>둔촌1동</td>\n",
       "    </tr>\n",
       "    <tr>\n",
       "      <th>421</th>\n",
       "      <td>1125071</td>\n",
       "      <td>11740700</td>\n",
       "      <td>서울</td>\n",
       "      <td>강동구</td>\n",
       "      <td>둔촌2동</td>\n",
       "    </tr>\n",
       "    <tr>\n",
       "      <th>422</th>\n",
       "      <td>1125072</td>\n",
       "      <td>11740570</td>\n",
       "      <td>서울</td>\n",
       "      <td>강동구</td>\n",
       "      <td>암사1동</td>\n",
       "    </tr>\n",
       "    <tr>\n",
       "      <th>423</th>\n",
       "      <td>1125073</td>\n",
       "      <td>11740610</td>\n",
       "      <td>서울</td>\n",
       "      <td>강동구</td>\n",
       "      <td>천호2동</td>\n",
       "    </tr>\n",
       "    <tr>\n",
       "      <th>424</th>\n",
       "      <td>1125074</td>\n",
       "      <td>11740685</td>\n",
       "      <td>서울</td>\n",
       "      <td>강동구</td>\n",
       "      <td>길동</td>\n",
       "    </tr>\n",
       "  </tbody>\n",
       "</table>\n",
       "<p>425 rows × 5 columns</p>\n",
       "</div>"
      ],
      "text/plain": [
       "     통계청행정동코드  행자부행정동코드 시도명 시군구명  행정동명\n",
       "0     1101053  11110530  서울  종로구   사직동\n",
       "1     1101054  11110540  서울  종로구   삼청동\n",
       "2     1101055  11110550  서울  종로구   부암동\n",
       "3     1101056  11110560  서울  종로구   평창동\n",
       "4     1101057  11110570  서울  종로구   무악동\n",
       "..        ...       ...  ..  ...   ...\n",
       "420   1125070  11740690  서울  강동구  둔촌1동\n",
       "421   1125071  11740700  서울  강동구  둔촌2동\n",
       "422   1125072  11740570  서울  강동구  암사1동\n",
       "423   1125073  11740610  서울  강동구  천호2동\n",
       "424   1125074  11740685  서울  강동구    길동\n",
       "\n",
       "[425 rows x 5 columns]"
      ]
     },
     "execution_count": 49,
     "metadata": {},
     "output_type": "execute_result"
    }
   ],
   "source": [
    "code = pd.read_excel('./data/생활인구/행정동코드_매핑정보_20200325.xlsx') #행정동코드_매핑정보 엑셀 파일 가져오기\n",
    "code"
   ]
  },
  {
   "cell_type": "code",
   "execution_count": null,
   "id": "f7716eab",
   "metadata": {
    "id": "f7716eab",
    "outputId": "1b74cf06-ba65-4c2d-ef5a-a3cd16611f62"
   },
   "outputs": [
    {
     "name": "stdout",
     "output_type": "stream",
     "text": [
      "<class 'pandas.core.frame.DataFrame'>\n",
      "RangeIndex: 425 entries, 0 to 424\n",
      "Data columns (total 5 columns):\n",
      " #   Column    Non-Null Count  Dtype \n",
      "---  ------    --------------  ----- \n",
      " 0   통계청행정동코드  425 non-null    int64 \n",
      " 1   행자부행정동코드  425 non-null    int64 \n",
      " 2   시도명       425 non-null    object\n",
      " 3   시군구명      425 non-null    object\n",
      " 4   행정동명      425 non-null    object\n",
      "dtypes: int64(2), object(3)\n",
      "memory usage: 16.7+ KB\n"
     ]
    }
   ],
   "source": [
    "code.info()"
   ]
  },
  {
   "cell_type": "code",
   "execution_count": null,
   "id": "de61c8f6",
   "metadata": {
    "id": "de61c8f6"
   },
   "outputs": [],
   "source": [
    "code = code[['행자부행정동코드', '시군구명', '행정동명']] #가져온 엑셀 파일에서 필요한 데이터만 출력"
   ]
  },
  {
   "cell_type": "code",
   "execution_count": null,
   "id": "5f3f0ba7",
   "metadata": {
    "id": "5f3f0ba7",
    "outputId": "64929338-6fb4-4955-cb3b-b7214001eeae"
   },
   "outputs": [
    {
     "name": "stderr",
     "output_type": "stream",
     "text": [
      "C:\\Users\\user\\AppData\\Local\\Temp\\ipykernel_11776\\3598568178.py:1: SettingWithCopyWarning: \n",
      "A value is trying to be set on a copy of a slice from a DataFrame\n",
      "\n",
      "See the caveats in the documentation: https://pandas.pydata.org/pandas-docs/stable/user_guide/indexing.html#returning-a-view-versus-a-copy\n",
      "  code.rename(columns={'행자부행정동코드':'행정동코드'}, inplace = True)\n"
     ]
    }
   ],
   "source": [
    "code.rename(columns={'행자부행정동코드':'행정동코드'}, inplace = True) #행자부행정동코드 컬럼의 이름을 행정동코드로 변환"
   ]
  },
  {
   "cell_type": "code",
   "execution_count": null,
   "id": "3a622779",
   "metadata": {
    "id": "3a622779",
    "outputId": "6126da42-2b88-4a37-9eac-61d0232ab68e"
   },
   "outputs": [
    {
     "data": {
      "text/html": [
       "<div>\n",
       "<style scoped>\n",
       "    .dataframe tbody tr th:only-of-type {\n",
       "        vertical-align: middle;\n",
       "    }\n",
       "\n",
       "    .dataframe tbody tr th {\n",
       "        vertical-align: top;\n",
       "    }\n",
       "\n",
       "    .dataframe thead th {\n",
       "        text-align: right;\n",
       "    }\n",
       "</style>\n",
       "<table border=\"1\" class=\"dataframe\">\n",
       "  <thead>\n",
       "    <tr style=\"text-align: right;\">\n",
       "      <th></th>\n",
       "      <th>행정동코드</th>\n",
       "      <th>시군구명</th>\n",
       "      <th>행정동명</th>\n",
       "    </tr>\n",
       "  </thead>\n",
       "  <tbody>\n",
       "    <tr>\n",
       "      <th>0</th>\n",
       "      <td>11110530</td>\n",
       "      <td>종로구</td>\n",
       "      <td>사직동</td>\n",
       "    </tr>\n",
       "    <tr>\n",
       "      <th>1</th>\n",
       "      <td>11110540</td>\n",
       "      <td>종로구</td>\n",
       "      <td>삼청동</td>\n",
       "    </tr>\n",
       "    <tr>\n",
       "      <th>2</th>\n",
       "      <td>11110550</td>\n",
       "      <td>종로구</td>\n",
       "      <td>부암동</td>\n",
       "    </tr>\n",
       "    <tr>\n",
       "      <th>3</th>\n",
       "      <td>11110560</td>\n",
       "      <td>종로구</td>\n",
       "      <td>평창동</td>\n",
       "    </tr>\n",
       "    <tr>\n",
       "      <th>4</th>\n",
       "      <td>11110570</td>\n",
       "      <td>종로구</td>\n",
       "      <td>무악동</td>\n",
       "    </tr>\n",
       "    <tr>\n",
       "      <th>...</th>\n",
       "      <td>...</td>\n",
       "      <td>...</td>\n",
       "      <td>...</td>\n",
       "    </tr>\n",
       "    <tr>\n",
       "      <th>420</th>\n",
       "      <td>11740690</td>\n",
       "      <td>강동구</td>\n",
       "      <td>둔촌1동</td>\n",
       "    </tr>\n",
       "    <tr>\n",
       "      <th>421</th>\n",
       "      <td>11740700</td>\n",
       "      <td>강동구</td>\n",
       "      <td>둔촌2동</td>\n",
       "    </tr>\n",
       "    <tr>\n",
       "      <th>422</th>\n",
       "      <td>11740570</td>\n",
       "      <td>강동구</td>\n",
       "      <td>암사1동</td>\n",
       "    </tr>\n",
       "    <tr>\n",
       "      <th>423</th>\n",
       "      <td>11740610</td>\n",
       "      <td>강동구</td>\n",
       "      <td>천호2동</td>\n",
       "    </tr>\n",
       "    <tr>\n",
       "      <th>424</th>\n",
       "      <td>11740685</td>\n",
       "      <td>강동구</td>\n",
       "      <td>길동</td>\n",
       "    </tr>\n",
       "  </tbody>\n",
       "</table>\n",
       "<p>425 rows × 3 columns</p>\n",
       "</div>"
      ],
      "text/plain": [
       "        행정동코드 시군구명  행정동명\n",
       "0    11110530  종로구   사직동\n",
       "1    11110540  종로구   삼청동\n",
       "2    11110550  종로구   부암동\n",
       "3    11110560  종로구   평창동\n",
       "4    11110570  종로구   무악동\n",
       "..        ...  ...   ...\n",
       "420  11740690  강동구  둔촌1동\n",
       "421  11740700  강동구  둔촌2동\n",
       "422  11740570  강동구  암사1동\n",
       "423  11740610  강동구  천호2동\n",
       "424  11740685  강동구    길동\n",
       "\n",
       "[425 rows x 3 columns]"
      ]
     },
     "execution_count": 53,
     "metadata": {},
     "output_type": "execute_result"
    }
   ],
   "source": [
    "code #데이터 출력"
   ]
  },
  {
   "cell_type": "code",
   "execution_count": null,
   "id": "0e1037c9",
   "metadata": {
    "id": "0e1037c9"
   },
   "outputs": [],
   "source": [
    "pop_final = pd.merge(code, pop_mean, on = '행정동코드') #code와 pop_mean파일을 행정동코드 기준으로 병합"
   ]
  },
  {
   "cell_type": "code",
   "execution_count": null,
   "id": "bde04d54",
   "metadata": {
    "id": "bde04d54",
    "outputId": "9be8315f-34fe-448c-8a71-5a6eb2ca1ac6"
   },
   "outputs": [
    {
     "name": "stdout",
     "output_type": "stream",
     "text": [
      "<class 'pandas.core.frame.DataFrame'>\n",
      "Int64Index: 425 entries, 0 to 424\n",
      "Data columns (total 4 columns):\n",
      " #   Column   Non-Null Count  Dtype  \n",
      "---  ------   --------------  -----  \n",
      " 0   행정동코드    425 non-null    int64  \n",
      " 1   시군구명     425 non-null    object \n",
      " 2   행정동명     425 non-null    object \n",
      " 3   총생활인구평균  425 non-null    float64\n",
      "dtypes: float64(1), int64(1), object(2)\n",
      "memory usage: 16.6+ KB\n"
     ]
    }
   ],
   "source": [
    "pop_final.info() #데이터 정보 확인"
   ]
  },
  {
   "cell_type": "code",
   "execution_count": null,
   "id": "669f6575",
   "metadata": {
    "id": "669f6575",
    "outputId": "d757db5c-37dc-4437-8ea0-dfc3f5226082"
   },
   "outputs": [
    {
     "data": {
      "text/html": [
       "<div>\n",
       "<style scoped>\n",
       "    .dataframe tbody tr th:only-of-type {\n",
       "        vertical-align: middle;\n",
       "    }\n",
       "\n",
       "    .dataframe tbody tr th {\n",
       "        vertical-align: top;\n",
       "    }\n",
       "\n",
       "    .dataframe thead th {\n",
       "        text-align: right;\n",
       "    }\n",
       "</style>\n",
       "<table border=\"1\" class=\"dataframe\">\n",
       "  <thead>\n",
       "    <tr style=\"text-align: right;\">\n",
       "      <th></th>\n",
       "      <th>행정동코드</th>\n",
       "      <th>시군구명</th>\n",
       "      <th>행정동명</th>\n",
       "      <th>총생활인구평균</th>\n",
       "    </tr>\n",
       "  </thead>\n",
       "  <tbody>\n",
       "    <tr>\n",
       "      <th>0</th>\n",
       "      <td>11110530</td>\n",
       "      <td>종로구</td>\n",
       "      <td>사직동</td>\n",
       "      <td>24906.901952</td>\n",
       "    </tr>\n",
       "    <tr>\n",
       "      <th>1</th>\n",
       "      <td>11110540</td>\n",
       "      <td>종로구</td>\n",
       "      <td>삼청동</td>\n",
       "      <td>5854.499574</td>\n",
       "    </tr>\n",
       "    <tr>\n",
       "      <th>2</th>\n",
       "      <td>11110550</td>\n",
       "      <td>종로구</td>\n",
       "      <td>부암동</td>\n",
       "      <td>14709.096934</td>\n",
       "    </tr>\n",
       "    <tr>\n",
       "      <th>3</th>\n",
       "      <td>11110560</td>\n",
       "      <td>종로구</td>\n",
       "      <td>평창동</td>\n",
       "      <td>18876.879438</td>\n",
       "    </tr>\n",
       "    <tr>\n",
       "      <th>4</th>\n",
       "      <td>11110570</td>\n",
       "      <td>종로구</td>\n",
       "      <td>무악동</td>\n",
       "      <td>6674.677139</td>\n",
       "    </tr>\n",
       "    <tr>\n",
       "      <th>...</th>\n",
       "      <td>...</td>\n",
       "      <td>...</td>\n",
       "      <td>...</td>\n",
       "      <td>...</td>\n",
       "    </tr>\n",
       "    <tr>\n",
       "      <th>420</th>\n",
       "      <td>11740690</td>\n",
       "      <td>강동구</td>\n",
       "      <td>둔촌1동</td>\n",
       "      <td>6237.312357</td>\n",
       "    </tr>\n",
       "    <tr>\n",
       "      <th>421</th>\n",
       "      <td>11740700</td>\n",
       "      <td>강동구</td>\n",
       "      <td>둔촌2동</td>\n",
       "      <td>26473.840781</td>\n",
       "    </tr>\n",
       "    <tr>\n",
       "      <th>422</th>\n",
       "      <td>11740570</td>\n",
       "      <td>강동구</td>\n",
       "      <td>암사1동</td>\n",
       "      <td>27949.557110</td>\n",
       "    </tr>\n",
       "    <tr>\n",
       "      <th>423</th>\n",
       "      <td>11740610</td>\n",
       "      <td>강동구</td>\n",
       "      <td>천호2동</td>\n",
       "      <td>44534.126969</td>\n",
       "    </tr>\n",
       "    <tr>\n",
       "      <th>424</th>\n",
       "      <td>11740685</td>\n",
       "      <td>강동구</td>\n",
       "      <td>길동</td>\n",
       "      <td>51557.923449</td>\n",
       "    </tr>\n",
       "  </tbody>\n",
       "</table>\n",
       "<p>425 rows × 4 columns</p>\n",
       "</div>"
      ],
      "text/plain": [
       "        행정동코드 시군구명  행정동명       총생활인구평균\n",
       "0    11110530  종로구   사직동  24906.901952\n",
       "1    11110540  종로구   삼청동   5854.499574\n",
       "2    11110550  종로구   부암동  14709.096934\n",
       "3    11110560  종로구   평창동  18876.879438\n",
       "4    11110570  종로구   무악동   6674.677139\n",
       "..        ...  ...   ...           ...\n",
       "420  11740690  강동구  둔촌1동   6237.312357\n",
       "421  11740700  강동구  둔촌2동  26473.840781\n",
       "422  11740570  강동구  암사1동  27949.557110\n",
       "423  11740610  강동구  천호2동  44534.126969\n",
       "424  11740685  강동구    길동  51557.923449\n",
       "\n",
       "[425 rows x 4 columns]"
      ]
     },
     "execution_count": 56,
     "metadata": {},
     "output_type": "execute_result"
    }
   ],
   "source": [
    "pop_final #데이터 출력"
   ]
  },
  {
   "cell_type": "code",
   "execution_count": null,
   "id": "e1b9bd17",
   "metadata": {
    "id": "e1b9bd17",
    "outputId": "0c8dcfa8-a023-4b4b-d362-aef598d90e89"
   },
   "outputs": [
    {
     "data": {
      "text/html": [
       "<div>\n",
       "<style scoped>\n",
       "    .dataframe tbody tr th:only-of-type {\n",
       "        vertical-align: middle;\n",
       "    }\n",
       "\n",
       "    .dataframe tbody tr th {\n",
       "        vertical-align: top;\n",
       "    }\n",
       "\n",
       "    .dataframe thead th {\n",
       "        text-align: right;\n",
       "    }\n",
       "</style>\n",
       "<table border=\"1\" class=\"dataframe\">\n",
       "  <thead>\n",
       "    <tr style=\"text-align: right;\">\n",
       "      <th></th>\n",
       "      <th>행정동코드</th>\n",
       "      <th>시군구명</th>\n",
       "      <th>행정동명</th>\n",
       "      <th>총생활인구평균</th>\n",
       "    </tr>\n",
       "  </thead>\n",
       "  <tbody>\n",
       "    <tr>\n",
       "      <th>270</th>\n",
       "      <td>11530780</td>\n",
       "      <td>구로구</td>\n",
       "      <td>오류2동</td>\n",
       "      <td>35687.42134</td>\n",
       "    </tr>\n",
       "  </tbody>\n",
       "</table>\n",
       "</div>"
      ],
      "text/plain": [
       "        행정동코드 시군구명  행정동명      총생활인구평균\n",
       "270  11530780  구로구  오류2동  35687.42134"
      ]
     },
     "execution_count": 58,
     "metadata": {},
     "output_type": "execute_result"
    }
   ],
   "source": [
    "pop_final[pop_final['행정동명'] == '오류2동'] #행정동명이 오류2동인 데이터 출력"
   ]
  },
  {
   "cell_type": "code",
   "execution_count": null,
   "id": "2af0cd22",
   "metadata": {
    "id": "2af0cd22"
   },
   "outputs": [],
   "source": [
    "pop_final.to_csv('./output/생활인구평균425.csv', encoding = 'cp949', index = False) # 저장"
   ]
  },
  {
   "cell_type": "code",
   "execution_count": null,
   "id": "604b2427",
   "metadata": {
    "id": "604b2427"
   },
   "outputs": [],
   "source": []
  }
 ],
 "metadata": {
  "colab": {
   "name": "생활인구전처리.ipynb",
   "provenance": []
  },
  "kernelspec": {
   "display_name": "Python 3 (ipykernel)",
   "language": "python",
   "name": "python3"
  },
  "language_info": {
   "codemirror_mode": {
    "name": "ipython",
    "version": 3
   },
   "file_extension": ".py",
   "mimetype": "text/x-python",
   "name": "python",
   "nbconvert_exporter": "python",
   "pygments_lexer": "ipython3",
   "version": "3.9.12"
  }
 },
 "nbformat": 4,
 "nbformat_minor": 5
}
